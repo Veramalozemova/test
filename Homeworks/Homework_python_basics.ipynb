{
 "cells": [
  {
   "cell_type": "code",
   "execution_count": 2,
   "metadata": {},
   "outputs": [
    {
     "name": "stdout",
     "output_type": "stream",
     "text": [
      "Фраза 2 длиннее фразы 1\n"
     ]
    }
   ],
   "source": [
    "#сравнение длины фраз\n",
    "phrase_1 = 'Как прекрасен этот мир, посмотри!'\n",
    "phrase_2 = 'Полгода плохая погода, полгода совсем никуда.'\n",
    "if len (phrase_1) > len (phrase_2):\n",
    "    print('Фраза 1 длинее фразы 2')\n",
    "elif len (phrase_1) == len (phrase_2):\n",
    "    print ('Фразы равной длины')   \n",
    "else:\n",
    "    print('Фраза 2 длиннее фразы 1')"
   ]
  },
  {
   "cell_type": "code",
   "execution_count": 5,
   "metadata": {},
   "outputs": [
    {
     "name": "stdout",
     "output_type": "stream",
     "text": [
      "Фразы равной длины\n"
     ]
    }
   ],
   "source": [
    "phrase_1 = 'Как прекрасен этот мир, посмотри!'\n",
    "phrase_2 = 'Тихо вокруг, только не спит лиса!'\n",
    "if len (phrase_1) > len (phrase_2):\n",
    "    print('Фраза 1 длинее фразы 2')\n",
    "elif len (phrase_1) == len (phrase_2):\n",
    "    print ('Фразы равной длины')\n",
    "else:\n",
    "    print('Фраза 2 длиннее фразы 1')"
   ]
  },
  {
   "cell_type": "code",
   "execution_count": 3,
   "metadata": {},
   "outputs": [
    {
     "name": "stdout",
     "output_type": "stream",
     "text": [
      "Фраза 1 длинее фразы 2\n"
     ]
    }
   ],
   "source": [
    "phrase_1 = 'Как прекрасен этот мир, посмотри!'\n",
    "phrase_2 = 'Тихо вокруг.'\n",
    "if len (phrase_1) > len (phrase_2):\n",
    "    print('Фраза 1 длинее фразы 2')\n",
    "elif len (phrase_1) == len (phrase_2):\n",
    "    print ('Фразы равной длины')\n",
    "else:\n",
    "    print('Фраза 2 длиннее фразы 1')"
   ]
  },
  {
   "cell_type": "code",
   "execution_count": null,
   "metadata": {},
   "outputs": [],
   "source": [
    "#определение високосного года\n"
   ]
  }
 ],
 "metadata": {
  "kernelspec": {
   "display_name": "Python 3",
   "language": "python",
   "name": "python3"
  },
  "language_info": {
   "codemirror_mode": {
    "name": "ipython",
    "version": 3
   },
   "file_extension": ".py",
   "mimetype": "text/x-python",
   "name": "python",
   "nbconvert_exporter": "python",
   "pygments_lexer": "ipython3",
   "version": "3.8.3"
  }
 },
 "nbformat": 4,
 "nbformat_minor": 4
}
