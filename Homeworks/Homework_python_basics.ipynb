{
 "cells": [
  {
   "cell_type": "code",
   "execution_count": 5,
   "metadata": {},
   "outputs": [
    {
     "name": "stdout",
     "output_type": "stream",
     "text": [
      "Фраза 2 длиннее фразы 1\n"
     ]
    }
   ],
   "source": [
    "#сравнение длины фраз\n",
    "phrase_1 = 'Как прекрасен этот мир, посмотри!'\n",
    "phrase_2 = 'Полгода плохая погода, полгода совсем никуда.'\n",
    "if len (phrase_1) > len (phrase_2):\n",
    "    print('Фраза 1 длинее фразы 2')\n",
    "elif len (phrase_1) == len (phrase_2):\n",
    "    print ('Фразы равной длины')   \n",
    "else:\n",
    "    print('Фраза 2 длиннее фразы 1')"
   ]
  },
  {
   "cell_type": "code",
   "execution_count": 4,
   "metadata": {},
   "outputs": [
    {
     "name": "stdout",
     "output_type": "stream",
     "text": [
      "Фразы равной длины\n"
     ]
    }
   ],
   "source": [
    "phrase_1 = 'Как прекрасен этот мир, посмотри!'\n",
    "phrase_2 = 'Тихо вокруг, только не спит лиса!'\n",
    "if len (phrase_1) > len (phrase_2):\n",
    "    print('Фраза 1 длинее фразы 2')\n",
    "elif len (phrase_1) == len (phrase_2):\n",
    "    print ('Фразы равной длины')\n",
    "else:\n",
    "    print('Фраза 2 длиннее фразы 1')"
   ]
  },
  {
   "cell_type": "code",
   "execution_count": 3,
   "metadata": {},
   "outputs": [
    {
     "name": "stdout",
     "output_type": "stream",
     "text": [
      "Фраза 1 длинее фразы 2\n"
     ]
    }
   ],
   "source": [
    "phrase_1 = 'Как прекрасен этот мир, посмотри!'\n",
    "phrase_2 = 'Тихо вокруг.'\n",
    "if len (phrase_1) > len (phrase_2):\n",
    "    print('Фраза 1 длинее фразы 2')\n",
    "elif len (phrase_1) == len (phrase_2):\n",
    "    print ('Фразы равной длины')\n",
    "else:\n",
    "    print('Фраза 2 длиннее фразы 1')"
   ]
  },
  {
   "cell_type": "code",
   "execution_count": 1,
   "metadata": {},
   "outputs": [
    {
     "name": "stdout",
     "output_type": "stream",
     "text": [
      "Введите год\n",
      "1538\n",
      "Обычный год\n"
     ]
    }
   ],
   "source": [
    "#определение високосного года\n",
    "print ('Введите год')\n",
    "year = int(input ())\n",
    "if year %4 ==0 and year %100 !=0:\n",
    "    print ('Високосный год')\n",
    "elif year %100 ==0 and year %400 ==0:\n",
    "    print ('Високосный год')\n",
    "else:\n",
    "    print ('Обычный год')\n",
    "\n",
    "\n"
   ]
  },
  {
   "cell_type": "code",
   "execution_count": 2,
   "metadata": {},
   "outputs": [
    {
     "name": "stdout",
     "output_type": "stream",
     "text": [
      "Введите месяц\n",
      "март\n",
      "Введите день\n",
      "02\n",
      "Ваш знак - Рыбы\n"
     ]
    }
   ],
   "source": [
    "#определение знака зодиака\n",
    "\n",
    "print ('Введите месяц')\n",
    "month = input ()\n",
    "print ('Введите день')\n",
    "day = int(input ())\n",
    "if month == 'март' and day >=21 or month == 'апрель' and day <=20:\n",
    "    print ('Ваш знак - Овен')\n",
    "if month == 'апрель' and day <=21 or month == 'май' and day >=20:\n",
    "    print ('Ваш знак - Телец')\n",
    "if month == 'май' and day >=21 or month == 'июнь' and day <=21:\n",
    "    print ('Ваш знак - Близнецы')\n",
    "if month == 'июнь' and day >=22 or month == 'июль' and day <=22:\n",
    "    print ('Ваш знак - Рак')\n",
    "if month == 'июль' and day >=23 or month == 'август' and day <=23:\n",
    "    print ('Ваш знак - Лев')\n",
    "if month == 'август' and day >=24 or month == 'сентябрь' and day <=22:\n",
    "    print ('Ваш знак - Дева')\n",
    "if month == ('сентябрь') and day >=23 or month == ('октябрь') and day <=23:\n",
    "    print ('Ваш знак - Весы')\n",
    "if month == ('октябрь') and day >=24 or month == ('ноябрь') and day <=22:\n",
    "    print ('Ваш знак - Скорпион')\n",
    "if month == ('ноябрь') and day >=23 or month == ('декабрь') and day <=21:\n",
    "    print ('Ваш знак - Стрелец')\n",
    "if month == ('декабрь') and day >=22 or month == ('январь') and day <=19:\n",
    "    print ('Ваш знак - Козерог')\n",
    "if month == ('январь') and day >=20 or month == ('февраль') and day <=18:\n",
    "    print ('Ваш знак - Водолей')\n",
    "if month == ('февраль') and day >=19 or month == ('март') and day <=20:\n",
    "    print ('Ваш знак - Рыбы')\n"
   ]
  },
  {
   "cell_type": "code",
   "execution_count": 11,
   "metadata": {},
   "outputs": [
    {
     "name": "stdout",
     "output_type": "stream",
     "text": [
      "Введите ширину\n",
      "5\n",
      "Введите длину\n",
      "205\n",
      "Введите высоту\n",
      "15\n",
      "Упаковка для лыж\n"
     ]
    }
   ],
   "source": [
    "#подбор упаковки\n",
    "print ('Введите ширину')\n",
    "width = int (input ())\n",
    "print ('Введите длину')\n",
    "length = int (input ())\n",
    "print ('Введите высоту')\n",
    "height = int (input ())\n",
    "if width <15 and length <15 and height <15:\n",
    "    print ('Коробка № 1')\n",
    "elif (width >15 and width <50) or (length >15 and length <50) or (height >15 and height <50):\n",
    "    print ('Коробка № 2')\n",
    "elif length > 200:\n",
    "    print ('Упаковка для лыж')\n",
    "else:\n",
    "    print ('Стандартная коробка № 3')\n",
    "\n",
    "\n"
   ]
  }
 ],
 "metadata": {
  "kernelspec": {
   "display_name": "Python 3",
   "language": "python",
   "name": "python3"
  },
  "language_info": {
   "codemirror_mode": {
    "name": "ipython",
    "version": 3
   },
   "file_extension": ".py",
   "mimetype": "text/x-python",
   "name": "python",
   "nbconvert_exporter": "python",
   "pygments_lexer": "ipython3",
   "version": "3.8.3"
  }
 },
 "nbformat": 4,
 "nbformat_minor": 4
}
